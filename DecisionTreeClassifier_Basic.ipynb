{
 "cells": [
  {
   "cell_type": "code",
   "execution_count": 1,
   "metadata": {
    "collapsed": true
   },
   "outputs": [],
   "source": [
    "from sklearn import tree\n",
    "import numpy as np"
   ]
  },
  {
   "cell_type": "code",
   "execution_count": 2,
   "metadata": {
    "collapsed": true
   },
   "outputs": [],
   "source": [
    "# lenght,weight,speed\n",
    "X = [[100,200,450],[500,1000,200],[150,250,150],[150,300,300],[200,300,250],[300,450,500],[700,1200,270],[650,1100,280],[130,300,300]]\n",
    "# sport,bus,jeep assumed\n",
    "Y = [['SP'],['BS'],['JP'],['SP'],['JP'],['SP'],['BS'],['BS'],['SP']]"
   ]
  },
  {
   "cell_type": "code",
   "execution_count": 3,
   "metadata": {},
   "outputs": [
    {
     "name": "stdout",
     "output_type": "stream",
     "text": [
      "([100, 200, 450], '>', ['SP'])\n",
      "([500, 1000, 200], '>', ['BS'])\n",
      "([150, 250, 150], '>', ['JP'])\n",
      "([150, 300, 300], '>', ['SP'])\n",
      "([200, 300, 250], '>', ['JP'])\n",
      "([300, 450, 500], '>', ['SP'])\n",
      "([700, 1200, 270], '>', ['BS'])\n",
      "([650, 1100, 280], '>', ['BS'])\n",
      "([130, 300, 300], '>', ['SP'])\n"
     ]
    }
   ],
   "source": [
    "for i,j in zip(X,Y):\n",
    "    print(i,'>',j)"
   ]
  },
  {
   "cell_type": "code",
   "execution_count": 4,
   "metadata": {},
   "outputs": [
    {
     "data": {
      "text/plain": [
       "DecisionTreeClassifier(class_weight=None, criterion='gini', max_depth=None,\n",
       "            max_features=None, max_leaf_nodes=None,\n",
       "            min_impurity_decrease=0.0, min_impurity_split=None,\n",
       "            min_samples_leaf=1, min_samples_split=2,\n",
       "            min_weight_fraction_leaf=0.0, presort=False, random_state=None,\n",
       "            splitter='best')"
      ]
     },
     "execution_count": 4,
     "metadata": {},
     "output_type": "execute_result"
    }
   ],
   "source": [
    "dt = tree.DecisionTreeClassifier()\n",
    "dt.fit(X,Y)"
   ]
  },
  {
   "cell_type": "code",
   "execution_count": 5,
   "metadata": {},
   "outputs": [
    {
     "name": "stdout",
     "output_type": "stream",
     "text": [
      "['SP']\n",
      "['BS']\n",
      "['JP']\n"
     ]
    }
   ],
   "source": [
    "# all three category prediction\n",
    "a = np.array([150,500,550]).reshape(1,-1)\n",
    "print(dt.predict(a))\n",
    "a = np.array([700,1300,290]).reshape(1,-1)\n",
    "print(dt.predict(a))\n",
    "a = np.array([270,300,250]).reshape(1,-1)\n",
    "print(dt.predict(a))"
   ]
  }
 ],
 "metadata": {
  "kernelspec": {
   "display_name": "Python 3",
   "language": "python",
   "name": "python3"
  },
  "language_info": {
   "codemirror_mode": {
    "name": "ipython",
    "version": 2
   },
   "file_extension": ".py",
   "mimetype": "text/x-python",
   "name": "python",
   "nbconvert_exporter": "python",
   "pygments_lexer": "ipython2",
   "version": "2.7.12"
  }
 },
 "nbformat": 4,
 "nbformat_minor": 2
}
