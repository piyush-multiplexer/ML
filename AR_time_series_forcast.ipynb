{
 "cells": [
  {
   "cell_type": "code",
   "execution_count": 165,
   "metadata": {},
   "outputs": [],
   "source": [
    "import pandas as pd\n",
    "from pandas import Series, read_csv\n",
    "import datetime\n",
    "import matplotlib.pyplot as plt\n",
    "from sklearn.metrics import mean_squared_error\n",
    "from statsmodels.tsa.ar_model import AR"
   ]
  },
  {
   "cell_type": "code",
   "execution_count": 166,
   "metadata": {},
   "outputs": [],
   "source": [
    "df = read_csv('sms_usage.csv',header=0, parse_dates=[0], index_col=0, squeeze=True )"
   ]
  },
  {
   "cell_type": "code",
   "execution_count": 167,
   "metadata": {},
   "outputs": [
    {
     "data": {
      "text/plain": [
       "<matplotlib.axes._subplots.AxesSubplot at 0x7f239fb76ef0>"
      ]
     },
     "execution_count": 167,
     "metadata": {},
     "output_type": "execute_result"
    },
    {
     "data": {
      "image/png": "[encoded data removed]",
      "text/plain": [
       "<Figure size 432x288 with 1 Axes>"
      ]
     },
     "metadata": {},
     "output_type": "display_data"
    }
   ],
   "source": [
    "df.plot() "
   ]
  },
  {
   "cell_type": "code",
   "execution_count": 168,
   "metadata": {},
   "outputs": [],
   "source": [
    "x = df.values"
   ]
  },
  {
   "cell_type": "code",
   "execution_count": 169,
   "metadata": {},
   "outputs": [],
   "source": [
    "train,test = x[1:len(x)-30], x[len(x)-30:]"
   ]
  },
  {
   "cell_type": "code",
   "execution_count": 170,
   "metadata": {},
   "outputs": [],
   "source": [
    "m = AR(train, freq='D')"
   ]
  },
  {
   "cell_type": "code",
   "execution_count": 171,
   "metadata": {},
   "outputs": [],
   "source": [
    "model  = m.fit()"
   ]
  },
  {
   "cell_type": "code",
   "execution_count": 172,
   "metadata": {},
   "outputs": [
    {
     "data": {
      "text/plain": [
       "20"
      ]
     },
     "execution_count": 172,
     "metadata": {},
     "output_type": "execute_result"
    }
   ],
   "source": [
    "window = model.k_ar\n",
    "window"
   ]
  },
  {
   "cell_type": "code",
   "execution_count": 173,
   "metadata": {},
   "outputs": [
    {
     "data": {
      "text/plain": [
       "array([ 3.53403778e+04,  2.94168323e-02,  2.17323539e-02,  4.07625060e-02,\n",
       "        5.15336513e-02, -6.00946940e-03, -2.82351442e-02,  1.52405209e-01,\n",
       "        2.49960026e-02, -1.48437914e-02, -6.86162603e-05, -1.80994608e-02,\n",
       "        3.17640459e-02, -1.23444125e-02,  4.84720800e-02, -6.21836354e-02,\n",
       "        3.45568064e-02,  3.80755500e-02,  4.24499058e-02, -1.43472369e-03,\n",
       "        7.39092238e-02])"
      ]
     },
     "execution_count": 173,
     "metadata": {},
     "output_type": "execute_result"
    }
   ],
   "source": [
    "coef = model.params\n",
    "coef"
   ]
  },
  {
   "cell_type": "code",
   "execution_count": 174,
   "metadata": {},
   "outputs": [],
   "source": [
    "history = train[len(train)-window:]\n",
    "history = [history[i] for i in range(len(history))]\n",
    "predictions = []"
   ]
  },
  {
   "cell_type": "code",
   "execution_count": 175,
   "metadata": {},
   "outputs": [
    {
     "name": "stdout",
     "output_type": "stream",
     "text": [
      "predicted=70612.821693, expected=123509.000000\n",
      "predicted=61931.749631, expected=87692.000000\n",
      "predicted=63035.876977, expected=95519.000000\n",
      "predicted=74674.181824, expected=61324.000000\n",
      "predicted=73605.011150, expected=37358.000000\n",
      "predicted=65281.194802, expected=47771.000000\n",
      "predicted=62751.767407, expected=36790.000000\n",
      "predicted=72246.380855, expected=55217.000000\n",
      "predicted=63136.417558, expected=72082.000000\n",
      "predicted=70107.758238, expected=41376.000000\n",
      "predicted=61538.916484, expected=52877.000000\n",
      "predicted=57517.943144, expected=64568.000000\n",
      "predicted=58501.104843, expected=70620.000000\n",
      "predicted=63977.697411, expected=58782.000000\n",
      "predicted=66965.345722, expected=67550.000000\n",
      "predicted=65621.084396, expected=46139.000000\n",
      "predicted=64012.918030, expected=67730.000000\n",
      "predicted=65142.213347, expected=68652.000000\n",
      "predicted=64932.020645, expected=77316.000000\n",
      "predicted=67125.185238, expected=43441.000000\n",
      "predicted=68519.774434, expected=78592.000000\n",
      "predicted=66164.490914, expected=73999.000000\n",
      "predicted=62206.702508, expected=47154.000000\n",
      "predicted=59302.777827, expected=46329.000000\n",
      "predicted=63036.802701, expected=73324.000000\n",
      "predicted=64642.430483, expected=55897.000000\n",
      "predicted=56857.882510, expected=40892.000000\n",
      "predicted=60515.319337, expected=66625.000000\n",
      "predicted=67598.396196, expected=45260.000000\n",
      "predicted=57209.476957, expected=37927.000000\n"
     ]
    }
   ],
   "source": [
    "for t in range(len(test)):\n",
    "    lag = [history[i] for i in range(len(history)-window,len(history))]\n",
    "    yhat = coef[0]\n",
    "    for d in range(window):\n",
    "        yhat += coef[d+1] * lag[window-d-1]\n",
    "    obs = test[t]       \n",
    "    predictions.append(yhat)\n",
    "    history.append(obs)\n",
    "    print('predicted=%f, expected=%f' % (yhat, obs))"
   ]
  },
  {
   "cell_type": "code",
   "execution_count": 176,
   "metadata": {},
   "outputs": [],
   "source": [
    "# predicted = model.predict(start=len(train),end=len(train)+len(test)-1,dynamic=False)"
   ]
  },
  {
   "cell_type": "code",
   "execution_count": 177,
   "metadata": {},
   "outputs": [
    {
     "data": {
      "text/plain": [
       "('standard errors: ',\n",
       " array([7.59053884e+03, 3.59829021e-02, 3.60002219e-02, 3.59766581e-02,\n",
       "        3.59826514e-02, 3.59977458e-02, 3.59204011e-02, 3.58795574e-02,\n",
       "        3.62929856e-02, 3.62807231e-02, 3.62791803e-02, 3.62690957e-02,\n",
       "        3.62701089e-02, 3.62733441e-02, 3.58582397e-02, 3.58906848e-02,\n",
       "        3.59768966e-02, 3.59373289e-02, 3.59225388e-02, 3.59392583e-02,\n",
       "        3.59266510e-02]))"
      ]
     },
     "execution_count": 177,
     "metadata": {},
     "output_type": "execute_result"
    }
   ],
   "source": [
    "'standard errors: ',model.bse"
   ]
  },
  {
   "cell_type": "code",
   "execution_count": 195,
   "metadata": {},
   "outputs": [
    {
     "name": "stdout",
     "output_type": "stream",
     "text": [
      "MSError:  386574124.25381887\n",
      "Final prediction error:  2483658408.41798\n"
     ]
    }
   ],
   "source": [
    "print('MSError: ', mean_squared_error(predicted, test))\n",
    "print('Final prediction error: ',model.fpe)"
   ]
  },
  {
   "cell_type": "code",
   "execution_count": 196,
   "metadata": {},
   "outputs": [
    {
     "name": "stdout",
     "output_type": "stream",
     "text": [
      "No of trend term:   1\n",
      "Lag length:  20\n"
     ]
    }
   ],
   "source": [
    "print('No of trend term:  ', model.k_trend)\n",
    "print('Lag length: ', model.k_ar)"
   ]
  },
  {
   "cell_type": "code",
   "execution_count": 183,
   "metadata": {},
   "outputs": [
    {
     "data": {
      "text/plain": [
       "[<matplotlib.lines.Line2D at 0x7f23a40c58d0>]"
      ]
     },
     "execution_count": 183,
     "metadata": {},
     "output_type": "execute_result"
    },
    {
     "data": {
      "image/png": "[encoded data removed]",
      "text/plain": [
       "<Figure size 432x288 with 1 Axes>"
      ]
     },
     "metadata": {},
     "output_type": "display_data"
    }
   ],
   "source": [
    "plt.plot(predicted,color='red')\n",
    "plt.plot(test)"
   ]
  }
 ],
 "metadata": {
  "kernelspec": {
   "display_name": "conda Python(py3)",
   "language": "python",
   "name": "py3"
  },
  "language_info": {
   "codemirror_mode": {
    "name": "ipython",
    "version": 3
   },
   "file_extension": ".py",
   "mimetype": "text/x-python",
   "name": "python",
   "nbconvert_exporter": "python",
   "pygments_lexer": "ipython3",
   "version": "3.6.5"
  }
 },
 "nbformat": 4,
 "nbformat_minor": 2
}
