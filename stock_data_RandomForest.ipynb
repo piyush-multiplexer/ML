{
 "cells": [
  {
   "cell_type": "code",
   "execution_count": 1,
   "metadata": {
    "collapsed": true
   },
   "outputs": [],
   "source": [
    "%matplotlib inline\n",
    "import matplotlib.pyplot as plt\n",
    "import pandas as pd\n",
    "from sklearn.metrics import accuracy_score\n",
    "from sklearn.model_selection import train_test_split\n",
    "from sklearn.ensemble import RandomForestClassifier\n",
    "# from sklearn.linear_model import LogisticRegression\n",
    "# from sklearn.linear_model import LinearRegression"
   ]
  },
  {
   "cell_type": "code",
   "execution_count": 2,
   "metadata": {
    "collapsed": true
   },
   "outputs": [],
   "source": [
    "df = pd.read_csv('stock_data.csv')"
   ]
  },
  {
   "cell_type": "code",
   "execution_count": 3,
   "metadata": {},
   "outputs": [
    {
     "data": {
      "text/plain": [
       "(3000, 101)"
      ]
     },
     "execution_count": 3,
     "metadata": {},
     "output_type": "execute_result"
    }
   ],
   "source": [
    "df.shape"
   ]
  },
  {
   "cell_type": "code",
   "execution_count": 4,
   "metadata": {},
   "outputs": [
    {
     "name": "stdout",
     "output_type": "stream",
     "text": [
      "0    1\n",
      "1   -1\n",
      "2    1\n",
      "3    1\n",
      "4    1\n",
      "Name: Y, dtype: int64\n"
     ]
    },
    {
     "data": {
      "text/html": [
       "<div>\n",
       "<table border=\"1\" class=\"dataframe\">\n",
       "  <thead>\n",
       "    <tr style=\"text-align: right;\">\n",
       "      <th></th>\n",
       "      <th>X1</th>\n",
       "      <th>X2</th>\n",
       "      <th>X3</th>\n",
       "      <th>X4</th>\n",
       "      <th>X5</th>\n",
       "      <th>X6</th>\n",
       "      <th>X7</th>\n",
       "      <th>X8</th>\n",
       "      <th>X9</th>\n",
       "      <th>X10</th>\n",
       "      <th>...</th>\n",
       "      <th>X91</th>\n",
       "      <th>X92</th>\n",
       "      <th>X93</th>\n",
       "      <th>X94</th>\n",
       "      <th>X95</th>\n",
       "      <th>X96</th>\n",
       "      <th>X97</th>\n",
       "      <th>X98</th>\n",
       "      <th>X99</th>\n",
       "      <th>X100</th>\n",
       "    </tr>\n",
       "  </thead>\n",
       "  <tbody>\n",
       "    <tr>\n",
       "      <th>0</th>\n",
       "      <td>100.000000</td>\n",
       "      <td>100.000000</td>\n",
       "      <td>100.000000</td>\n",
       "      <td>100.000000</td>\n",
       "      <td>100.000000</td>\n",
       "      <td>100.000000</td>\n",
       "      <td>100.0000</td>\n",
       "      <td>100.000000</td>\n",
       "      <td>100.000000</td>\n",
       "      <td>100.000000</td>\n",
       "      <td>...</td>\n",
       "      <td>100.000000</td>\n",
       "      <td>100.000000</td>\n",
       "      <td>100.000000</td>\n",
       "      <td>100.000000</td>\n",
       "      <td>100.000000</td>\n",
       "      <td>100.000000</td>\n",
       "      <td>100.000000</td>\n",
       "      <td>100.000000</td>\n",
       "      <td>100.000000</td>\n",
       "      <td>100.000000</td>\n",
       "    </tr>\n",
       "    <tr>\n",
       "      <th>1</th>\n",
       "      <td>91.567862</td>\n",
       "      <td>96.621901</td>\n",
       "      <td>98.084599</td>\n",
       "      <td>96.543909</td>\n",
       "      <td>91.678881</td>\n",
       "      <td>96.337918</td>\n",
       "      <td>96.1250</td>\n",
       "      <td>94.015957</td>\n",
       "      <td>94.409201</td>\n",
       "      <td>97.084183</td>\n",
       "      <td>...</td>\n",
       "      <td>97.292714</td>\n",
       "      <td>96.888889</td>\n",
       "      <td>95.499022</td>\n",
       "      <td>97.457971</td>\n",
       "      <td>99.282297</td>\n",
       "      <td>101.296698</td>\n",
       "      <td>98.310678</td>\n",
       "      <td>100.489134</td>\n",
       "      <td>99.602234</td>\n",
       "      <td>93.263158</td>\n",
       "    </tr>\n",
       "    <tr>\n",
       "      <th>2</th>\n",
       "      <td>92.908600</td>\n",
       "      <td>97.640753</td>\n",
       "      <td>103.112398</td>\n",
       "      <td>98.130312</td>\n",
       "      <td>78.041958</td>\n",
       "      <td>97.693843</td>\n",
       "      <td>95.6250</td>\n",
       "      <td>95.744681</td>\n",
       "      <td>94.089712</td>\n",
       "      <td>96.655229</td>\n",
       "      <td>...</td>\n",
       "      <td>95.093172</td>\n",
       "      <td>97.333333</td>\n",
       "      <td>96.379804</td>\n",
       "      <td>93.397222</td>\n",
       "      <td>100.478469</td>\n",
       "      <td>101.179953</td>\n",
       "      <td>98.141624</td>\n",
       "      <td>96.084839</td>\n",
       "      <td>99.204467</td>\n",
       "      <td>86.421053</td>\n",
       "    </tr>\n",
       "    <tr>\n",
       "      <th>3</th>\n",
       "      <td>84.869178</td>\n",
       "      <td>94.369892</td>\n",
       "      <td>109.018217</td>\n",
       "      <td>102.209632</td>\n",
       "      <td>73.357203</td>\n",
       "      <td>100.676878</td>\n",
       "      <td>96.9166</td>\n",
       "      <td>93.085106</td>\n",
       "      <td>98.243067</td>\n",
       "      <td>98.113343</td>\n",
       "      <td>...</td>\n",
       "      <td>97.461792</td>\n",
       "      <td>101.925926</td>\n",
       "      <td>95.988415</td>\n",
       "      <td>94.412410</td>\n",
       "      <td>100.956938</td>\n",
       "      <td>99.287025</td>\n",
       "      <td>102.027024</td>\n",
       "      <td>100.326263</td>\n",
       "      <td>103.985313</td>\n",
       "      <td>77.513179</td>\n",
       "    </tr>\n",
       "    <tr>\n",
       "      <th>4</th>\n",
       "      <td>88.888889</td>\n",
       "      <td>95.603221</td>\n",
       "      <td>108.459686</td>\n",
       "      <td>103.116147</td>\n",
       "      <td>77.832727</td>\n",
       "      <td>104.677398</td>\n",
       "      <td>100.8750</td>\n",
       "      <td>93.617021</td>\n",
       "      <td>100.000000</td>\n",
       "      <td>99.828542</td>\n",
       "      <td>...</td>\n",
       "      <td>102.537953</td>\n",
       "      <td>102.074074</td>\n",
       "      <td>102.152642</td>\n",
       "      <td>105.579469</td>\n",
       "      <td>106.937799</td>\n",
       "      <td>101.651101</td>\n",
       "      <td>103.884995</td>\n",
       "      <td>106.688139</td>\n",
       "      <td>108.525205</td>\n",
       "      <td>85.736842</td>\n",
       "    </tr>\n",
       "  </tbody>\n",
       "</table>\n",
       "<p>5 rows × 100 columns</p>\n",
       "</div>"
      ],
      "text/plain": [
       "           X1          X2          X3          X4          X5          X6  \\\n",
       "0  100.000000  100.000000  100.000000  100.000000  100.000000  100.000000   \n",
       "1   91.567862   96.621901   98.084599   96.543909   91.678881   96.337918   \n",
       "2   92.908600   97.640753  103.112398   98.130312   78.041958   97.693843   \n",
       "3   84.869178   94.369892  109.018217  102.209632   73.357203  100.676878   \n",
       "4   88.888889   95.603221  108.459686  103.116147   77.832727  104.677398   \n",
       "\n",
       "         X7          X8          X9         X10     ...             X91  \\\n",
       "0  100.0000  100.000000  100.000000  100.000000     ...      100.000000   \n",
       "1   96.1250   94.015957   94.409201   97.084183     ...       97.292714   \n",
       "2   95.6250   95.744681   94.089712   96.655229     ...       95.093172   \n",
       "3   96.9166   93.085106   98.243067   98.113343     ...       97.461792   \n",
       "4  100.8750   93.617021  100.000000   99.828542     ...      102.537953   \n",
       "\n",
       "          X92         X93         X94         X95         X96         X97  \\\n",
       "0  100.000000  100.000000  100.000000  100.000000  100.000000  100.000000   \n",
       "1   96.888889   95.499022   97.457971   99.282297  101.296698   98.310678   \n",
       "2   97.333333   96.379804   93.397222  100.478469  101.179953   98.141624   \n",
       "3  101.925926   95.988415   94.412410  100.956938   99.287025  102.027024   \n",
       "4  102.074074  102.152642  105.579469  106.937799  101.651101  103.884995   \n",
       "\n",
       "          X98         X99        X100  \n",
       "0  100.000000  100.000000  100.000000  \n",
       "1  100.489134   99.602234   93.263158  \n",
       "2   96.084839   99.204467   86.421053  \n",
       "3  100.326263  103.985313   77.513179  \n",
       "4  106.688139  108.525205   85.736842  \n",
       "\n",
       "[5 rows x 100 columns]"
      ]
     },
     "execution_count": 4,
     "metadata": {},
     "output_type": "execute_result"
    }
   ],
   "source": [
    "Y = df['Y']\n",
    "X = df.drop(['Y'],axis=1)\n",
    "X.head()"
   ]
  },
  {
   "cell_type": "code",
   "execution_count": 5,
   "metadata": {
    "collapsed": true
   },
   "outputs": [],
   "source": [
    "x_train,x_test,y_train,y_test = train_test_split(X,Y)"
   ]
  },
  {
   "cell_type": "code",
   "execution_count": 6,
   "metadata": {
    "collapsed": true
   },
   "outputs": [],
   "source": []
  },
  {
   "cell_type": "code",
   "execution_count": 7,
   "metadata": {},
   "outputs": [
    {
     "data": {
      "text/plain": [
       "RandomForestClassifier(bootstrap=True, class_weight=None, criterion='gini',\n",
       "            max_depth=None, max_features='auto', max_leaf_nodes=None,\n",
       "            min_impurity_decrease=0.0, min_impurity_split=None,\n",
       "            min_samples_leaf=1, min_samples_split=2,\n",
       "            min_weight_fraction_leaf=0.0, n_estimators=10, n_jobs=1,\n",
       "            oob_score=False, random_state=None, verbose=0,\n",
       "            warm_start=False)"
      ]
     },
     "execution_count": 7,
     "metadata": {},
     "output_type": "execute_result"
    }
   ],
   "source": [
    "model = RandomForestClassifier()\n",
    "# model = LinearRegression()\n",
    "# model = LogisticRegression()\n",
    "model.fit(x_train,y_train)"
   ]
  },
  {
   "cell_type": "code",
   "execution_count": 8,
   "metadata": {
    "collapsed": true
   },
   "outputs": [],
   "source": [
    "# model.coef_"
   ]
  },
  {
   "cell_type": "code",
   "execution_count": 9,
   "metadata": {
    "collapsed": true
   },
   "outputs": [],
   "source": [
    "# model.intercept_"
   ]
  },
  {
   "cell_type": "code",
   "execution_count": 10,
   "metadata": {},
   "outputs": [
    {
     "data": {
      "text/plain": [
       "array([-1, -1, -1, -1, -1,  1, -1,  1,  1,  1,  1,  1, -1, -1, -1, -1, -1,\n",
       "       -1,  1,  1, -1,  1, -1,  1, -1,  1,  1, -1, -1,  1,  1,  1,  1, -1,\n",
       "        1, -1, -1,  1, -1,  1, -1, -1,  1, -1, -1,  1,  1, -1, -1, -1, -1,\n",
       "        1,  1,  1,  1,  1, -1, -1, -1, -1,  1, -1, -1, -1,  1, -1,  1, -1,\n",
       "        1, -1,  1,  1, -1, -1, -1,  1, -1, -1,  1, -1,  1, -1,  1,  1,  1,\n",
       "       -1, -1, -1,  1,  1,  1,  1,  1, -1,  1, -1,  1,  1,  1, -1, -1, -1,\n",
       "        1,  1,  1, -1, -1,  1, -1, -1, -1, -1, -1,  1, -1, -1,  1, -1,  1,\n",
       "       -1,  1,  1, -1, -1, -1,  1, -1,  1, -1,  1,  1, -1, -1,  1,  1, -1,\n",
       "       -1,  1, -1, -1, -1,  1, -1,  1, -1, -1,  1, -1,  1, -1, -1, -1, -1,\n",
       "       -1, -1,  1,  1, -1,  1, -1, -1, -1,  1,  1, -1,  1,  1,  1,  1, -1,\n",
       "       -1,  1, -1, -1,  1, -1, -1, -1, -1,  1,  1,  1, -1,  1, -1, -1, -1,\n",
       "        1, -1, -1, -1, -1, -1, -1,  1, -1,  1,  1, -1, -1,  1, -1,  1,  1,\n",
       "       -1, -1, -1, -1,  1, -1, -1,  1, -1,  1, -1,  1, -1, -1,  1,  1,  1,\n",
       "        1,  1,  1, -1,  1, -1,  1, -1, -1,  1, -1,  1, -1, -1, -1, -1, -1,\n",
       "       -1,  1, -1, -1,  1, -1, -1,  1, -1, -1, -1, -1, -1, -1,  1,  1, -1,\n",
       "        1,  1,  1,  1,  1, -1, -1,  1, -1,  1, -1,  1, -1, -1,  1,  1,  1,\n",
       "       -1, -1,  1,  1, -1,  1, -1, -1, -1,  1, -1, -1, -1,  1,  1, -1,  1,\n",
       "       -1,  1,  1, -1, -1,  1,  1, -1,  1, -1,  1, -1,  1,  1, -1,  1, -1,\n",
       "        1, -1, -1, -1,  1, -1, -1, -1, -1, -1, -1, -1, -1, -1, -1, -1, -1,\n",
       "       -1,  1, -1,  1,  1, -1, -1, -1,  1, -1,  1, -1, -1, -1, -1,  1,  1,\n",
       "       -1, -1,  1, -1,  1, -1,  1, -1,  1,  1,  1, -1, -1, -1,  1, -1, -1,\n",
       "       -1,  1, -1, -1, -1,  1,  1,  1, -1,  1,  1,  1, -1, -1,  1, -1,  1,\n",
       "        1, -1,  1,  1, -1,  1,  1,  1,  1, -1,  1, -1,  1, -1,  1,  1, -1,\n",
       "       -1, -1,  1, -1, -1, -1, -1,  1,  1,  1, -1,  1, -1,  1, -1, -1, -1,\n",
       "       -1, -1, -1,  1, -1, -1,  1, -1, -1, -1,  1,  1, -1,  1,  1,  1, -1,\n",
       "       -1, -1,  1, -1,  1,  1, -1,  1, -1, -1,  1,  1,  1,  1, -1,  1,  1,\n",
       "       -1, -1,  1, -1,  1, -1,  1,  1, -1, -1,  1,  1,  1, -1,  1,  1, -1,\n",
       "        1, -1,  1,  1, -1, -1, -1,  1,  1, -1, -1, -1, -1,  1, -1,  1, -1,\n",
       "        1, -1,  1, -1, -1,  1, -1,  1,  1, -1,  1, -1,  1,  1, -1,  1,  1,\n",
       "       -1,  1, -1, -1,  1, -1,  1, -1, -1,  1,  1, -1, -1, -1, -1, -1, -1,\n",
       "        1,  1, -1, -1, -1,  1, -1, -1, -1, -1,  1, -1, -1,  1, -1, -1, -1,\n",
       "        1,  1, -1, -1, -1,  1, -1, -1, -1, -1, -1, -1, -1,  1,  1, -1,  1,\n",
       "        1,  1, -1, -1, -1,  1,  1,  1,  1, -1, -1,  1, -1,  1,  1, -1, -1,\n",
       "       -1, -1, -1,  1, -1,  1, -1,  1, -1, -1, -1, -1, -1, -1, -1, -1,  1,\n",
       "        1, -1, -1,  1, -1,  1,  1, -1, -1,  1, -1, -1,  1, -1, -1,  1, -1,\n",
       "       -1, -1, -1, -1, -1, -1, -1,  1,  1,  1,  1,  1, -1,  1,  1, -1,  1,\n",
       "       -1, -1,  1,  1,  1, -1,  1, -1, -1,  1,  1, -1, -1, -1, -1, -1,  1,\n",
       "       -1,  1, -1, -1, -1, -1, -1, -1,  1, -1,  1,  1,  1, -1,  1, -1, -1,\n",
       "        1, -1,  1, -1, -1, -1, -1,  1,  1, -1,  1, -1, -1, -1, -1, -1, -1,\n",
       "       -1,  1, -1, -1, -1, -1,  1, -1,  1,  1, -1, -1, -1, -1, -1,  1, -1,\n",
       "       -1,  1, -1, -1,  1,  1, -1,  1, -1, -1,  1, -1, -1, -1, -1, -1, -1,\n",
       "       -1, -1, -1, -1, -1,  1, -1,  1,  1, -1, -1, -1,  1,  1, -1, -1, -1,\n",
       "       -1, -1, -1,  1, -1,  1, -1, -1, -1, -1, -1, -1, -1, -1, -1,  1,  1,\n",
       "        1, -1,  1,  1, -1,  1,  1,  1, -1,  1, -1, -1, -1,  1,  1, -1, -1,\n",
       "       -1, -1])"
      ]
     },
     "execution_count": 10,
     "metadata": {},
     "output_type": "execute_result"
    }
   ],
   "source": [
    "# model.predict(X)\n",
    "model.predict(x_test)"
   ]
  },
  {
   "cell_type": "code",
   "execution_count": 11,
   "metadata": {},
   "outputs": [
    {
     "data": {
      "text/plain": [
       "0.4746666666666667"
      ]
     },
     "execution_count": 11,
     "metadata": {},
     "output_type": "execute_result"
    }
   ],
   "source": [
    "model.score(x_test,y_test)"
   ]
  },
  {
   "cell_type": "code",
   "execution_count": 12,
   "metadata": {},
   "outputs": [
    {
     "data": {
      "text/plain": [
       "0.9617777777777777"
      ]
     },
     "execution_count": 12,
     "metadata": {},
     "output_type": "execute_result"
    }
   ],
   "source": [
    "model.score(x_train,y_train)"
   ]
  },
  {
   "cell_type": "code",
   "execution_count": 13,
   "metadata": {},
   "outputs": [
    {
     "data": {
      "text/plain": [
       "0.4746666666666667"
      ]
     },
     "execution_count": 13,
     "metadata": {},
     "output_type": "execute_result"
    }
   ],
   "source": [
    "accuracy_score(y_test,model.predict(x_test))"
   ]
  }
 ],
 "metadata": {
  "kernelspec": {
   "display_name": "Python 3",
   "language": "python",
   "name": "python3"
  },
  "language_info": {
   "codemirror_mode": {
    "name": "ipython",
    "version": 2
   },
   "file_extension": ".py",
   "mimetype": "text/x-python",
   "name": "python",
   "nbconvert_exporter": "python",
   "pygments_lexer": "ipython2",
   "version": "2.7.12"
  }
 },
 "nbformat": 4,
 "nbformat_minor": 2
}
