{
 "cells": [
  {
   "cell_type": "markdown",
   "metadata": {},
   "source": [
    "## LinearRegression Multiple"
   ]
  },
  {
   "cell_type": "code",
   "execution_count": 1,
   "metadata": {
    "collapsed": true
   },
   "outputs": [],
   "source": [
    "%matplotlib inline\n",
    "from sklearn import linear_model\n",
    "import pandas as pd\n",
    "from sklearn.model_selection import train_test_split\n",
    "import matplotlib.pyplot as plt"
   ]
  },
  {
   "cell_type": "code",
   "execution_count": 2,
   "metadata": {
    "collapsed": true
   },
   "outputs": [],
   "source": [
    "X_weight = [[700],[750],[760],[800],[820],[890],[900],[950],[970],[1000],[1090],[1100],[1200],[1240],[1290]]\n",
    "# print(len(Y_weight))\n",
    "X_height = [[10],[12],[14],[11],[15],[17],[13],[15],[17],[19],[13],[15],[14],[12],[10]]\n",
    "# print(len(X_height))\n",
    "Y_speed = [[100],[120],[140],[160],[170],[190],[220],[250],[300],[320],[350],[380],[400],[420],[450]]\n",
    "# print(len(X_speed))"
   ]
  },
  {
   "cell_type": "code",
   "execution_count": 3,
   "metadata": {},
   "outputs": [
    {
     "name": "stdout",
     "output_type": "stream",
     "text": [
      "([700], [10], '>', [100])\n",
      "([750], [12], '>', [120])\n",
      "([760], [14], '>', [140])\n",
      "([800], [11], '>', [160])\n",
      "([820], [15], '>', [170])\n",
      "([890], [17], '>', [190])\n",
      "([900], [13], '>', [220])\n",
      "([950], [15], '>', [250])\n",
      "([970], [17], '>', [300])\n",
      "([1000], [19], '>', [320])\n",
      "([1090], [13], '>', [350])\n",
      "([1100], [15], '>', [380])\n",
      "([1200], [14], '>', [400])\n",
      "([1240], [12], '>', [420])\n",
      "([1290], [10], '>', [450])\n"
     ]
    }
   ],
   "source": [
    "for i in zip(X_weight,X_height,Y_speed):\n",
    "    print(i[0], i[1], '>', i[2])"
   ]
  },
  {
   "cell_type": "code",
   "execution_count": 4,
   "metadata": {},
   "outputs": [
    {
     "name": "stdout",
     "output_type": "stream",
     "text": [
      "[[[700], [750], [760], [800], [820], [890], [900], [950], [970], [1000], [1090], [1100], [1200], [1240], [1290]], [[10], [12], [14], [11], [15], [17], [13], [15], [17], [19], [13], [15], [14], [12], [10]]]\n"
     ]
    }
   ],
   "source": [
    "x = []\n",
    "x.append(X_weight)\n",
    "x.append(X_height)\n",
    "print(x)"
   ]
  },
  {
   "cell_type": "code",
   "execution_count": 5,
   "metadata": {},
   "outputs": [
    {
     "name": "stdout",
     "output_type": "stream",
     "text": [
      "    X_weight  X_height\n",
      "0        700        10\n",
      "1        750        12\n",
      "2        760        14\n",
      "3        800        11\n",
      "4        820        15\n",
      "5        890        17\n",
      "6        900        13\n",
      "7        950        15\n",
      "8        970        17\n",
      "9       1000        19\n",
      "10      1090        13\n",
      "11      1100        15\n",
      "12      1200        14\n",
      "13      1240        12\n",
      "14      1290        10\n",
      "    Y_speed\n",
      "0       100\n",
      "1       120\n",
      "2       140\n",
      "3       160\n",
      "4       170\n",
      "5       190\n",
      "6       220\n",
      "7       250\n",
      "8       300\n",
      "9       320\n",
      "10      350\n",
      "11      380\n",
      "12      400\n",
      "13      420\n",
      "14      450\n"
     ]
    }
   ],
   "source": [
    "# add list to single dataframe\n",
    "df = pd.DataFrame(X_weight,columns=['X_weight'])\n",
    "df['X_height'] = pd.DataFrame(X_height)\n",
    "rs = pd.DataFrame(Y_speed,columns=['Y_speed'])\n",
    "print(df)\n",
    "print(rs)"
   ]
  },
  {
   "cell_type": "code",
   "execution_count": 6,
   "metadata": {
    "collapsed": true
   },
   "outputs": [],
   "source": [
    "x_train, x_test, y_train, y_test = train_test_split(df, rs)"
   ]
  },
  {
   "cell_type": "code",
   "execution_count": 7,
   "metadata": {},
   "outputs": [
    {
     "data": {
      "text/plain": [
       "LinearRegression(copy_X=True, fit_intercept=True, n_jobs=1, normalize=False)"
      ]
     },
     "execution_count": 7,
     "metadata": {},
     "output_type": "execute_result"
    }
   ],
   "source": [
    "lr = linear_model.LinearRegression()\n",
    "lr.fit(x_train,y_train)"
   ]
  },
  {
   "cell_type": "markdown",
   "metadata": {},
   "source": [
    "In regression with multiple independent variables, the coefficient tells you how much the dependent variable is expected to increase when that independent variable increases by one, holding all the other independent variables constant. Remember to keep in mind the units which your variables are measured in."
   ]
  },
  {
   "cell_type": "code",
   "execution_count": 8,
   "metadata": {},
   "outputs": [
    {
     "data": {
      "text/plain": [
       "array([[0.61801902, 3.73970882]])"
      ]
     },
     "execution_count": 8,
     "metadata": {},
     "output_type": "execute_result"
    }
   ],
   "source": [
    "lr.coef_"
   ]
  },
  {
   "cell_type": "markdown",
   "metadata": {},
   "source": [
    "The intercept (often labeled the constant) is the expected mean value of Y when all X=0. Start with a regression equation with one predictor, X. If X sometimes = 0, the intercept is simply the expected mean value of Y at that value."
   ]
  },
  {
   "cell_type": "code",
   "execution_count": 9,
   "metadata": {},
   "outputs": [
    {
     "data": {
      "text/plain": [
       "array([-385.20318057])"
      ]
     },
     "execution_count": 9,
     "metadata": {},
     "output_type": "execute_result"
    }
   ],
   "source": [
    "lr.intercept_"
   ]
  },
  {
   "cell_type": "code",
   "execution_count": 31,
   "metadata": {},
   "outputs": [
    {
     "name": "stdout",
     "output_type": "stream",
     "text": [
      "input: \n",
      "    X_weight  X_height\n",
      "0        700        10\n",
      "14      1290        10\n",
      "11      1100        15\n",
      "4        820        15\n",
      "('Expected: ', array([100]), 'Predicted: ', array([84.80722432]))\n",
      "('Expected: ', array([450]), 'Predicted: ', array([449.43844834]))\n",
      "('Expected: ', array([380]), 'Predicted: ', array([350.71337795]))\n",
      "('Expected: ', array([170]), 'Predicted: ', array([177.66805129]))\n"
     ]
    }
   ],
   "source": [
    "predicted = lr.predict(x_test)\n",
    "print('input: ')\n",
    "print(x_test)\n",
    "for i,j in zip(y_test.values, predicted):\n",
    "    print('Expected: ',i,'Predicted: ',j)\n",
    "# predicted = lr.predict(x_test.tail(1))\n",
    "# print('input: ', x_test.tail(1).values)\n",
    "# print('Exptected: ',y_test.tail(1).values, 'Predicted:' ,predicted)"
   ]
  },
  {
   "cell_type": "code",
   "execution_count": 21,
   "metadata": {},
   "outputs": [
    {
     "data": {
      "text/plain": [
       "array([[ 84.80722432],\n",
       "       [449.43844834],\n",
       "       [350.71337795],\n",
       "       [177.66805129]])"
      ]
     },
     "execution_count": 21,
     "metadata": {},
     "output_type": "execute_result"
    }
   ],
   "source": [
    "lr.predict(x_test)"
   ]
  },
  {
   "cell_type": "code",
   "execution_count": 22,
   "metadata": {},
   "outputs": [
    {
     "data": {
      "text/html": [
       "<div>\n",
       "<table border=\"1\" class=\"dataframe\">\n",
       "  <thead>\n",
       "    <tr style=\"text-align: right;\">\n",
       "      <th></th>\n",
       "      <th>Y_speed</th>\n",
       "    </tr>\n",
       "  </thead>\n",
       "  <tbody>\n",
       "    <tr>\n",
       "      <th>0</th>\n",
       "      <td>100</td>\n",
       "    </tr>\n",
       "    <tr>\n",
       "      <th>14</th>\n",
       "      <td>450</td>\n",
       "    </tr>\n",
       "    <tr>\n",
       "      <th>11</th>\n",
       "      <td>380</td>\n",
       "    </tr>\n",
       "    <tr>\n",
       "      <th>4</th>\n",
       "      <td>170</td>\n",
       "    </tr>\n",
       "  </tbody>\n",
       "</table>\n",
       "</div>"
      ],
      "text/plain": [
       "    Y_speed\n",
       "0       100\n",
       "14      450\n",
       "11      380\n",
       "4       170"
      ]
     },
     "execution_count": 22,
     "metadata": {},
     "output_type": "execute_result"
    }
   ],
   "source": [
    "y_test"
   ]
  }
 ],
 "metadata": {
  "kernelspec": {
   "display_name": "Python 3",
   "language": "python",
   "name": "python3"
  },
  "language_info": {
   "codemirror_mode": {
    "name": "ipython",
    "version": 2
   },
   "file_extension": ".py",
   "mimetype": "text/x-python",
   "name": "python",
   "nbconvert_exporter": "python",
   "pygments_lexer": "ipython2",
   "version": "2.7.12"
  }
 },
 "nbformat": 4,
 "nbformat_minor": 2
}
